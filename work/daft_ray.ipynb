{
 "cells": [
  {
   "cell_type": "code",
   "execution_count": null,
   "id": "21ac5206-20e4-4a61-8d58-635c24811ae2",
   "metadata": {},
   "outputs": [],
   "source": [
    "# http://127.0.0.1:8265/#/cluster"
   ]
  },
  {
   "cell_type": "raw",
   "id": "5d2aff11-b309-46a6-890d-69d4c0ce953b",
   "metadata": {},
   "source": [
    "from collections import Counter\n",
    "import socket\n",
    "import time\n",
    "\n",
    "import ray\n",
    "\n",
    "ray.init(address='ray://ray-head:10001', runtime_env={\"pip\": [\"getdaft\"]})\n",
    "\n",
    "print('''This cluster consists of\n",
    "    {} nodes in total\n",
    "    {} CPU resources in total\n",
    "'''.format(len(ray.nodes()), ray.cluster_resources()['CPU']))\n",
    "\n",
    "@ray.remote\n",
    "def f():\n",
    "    time.sleep(0.001)\n",
    "    # Return IP address.\n",
    "    return socket.gethostbyname(socket.gethostname())\n",
    "\n",
    "object_ids = [f.remote() for _ in range(10000)]\n",
    "ip_addresses = ray.get(object_ids)\n",
    "\n",
    "print('Tasks executed')\n",
    "for ip_address, num_tasks in Counter(ip_addresses).items():\n",
    "    print('    {} tasks on {}'.format(num_tasks, ip_address))"
   ]
  },
  {
   "cell_type": "code",
   "execution_count": 1,
   "id": "71330a37-fcb1-4010-8c69-5012febda215",
   "metadata": {},
   "outputs": [
    {
     "name": "stdout",
     "output_type": "stream",
     "text": [
      "Requirement already satisfied: getdaft in /opt/conda/lib/python3.12/site-packages (0.4.0)\n",
      "Requirement already satisfied: pyarrow>=8.0.0 in /opt/conda/lib/python3.12/site-packages (from getdaft) (18.1.0)\n",
      "Requirement already satisfied: fsspec in /opt/conda/lib/python3.12/site-packages (from getdaft) (2024.12.0)\n",
      "Requirement already satisfied: tqdm in /opt/conda/lib/python3.12/site-packages (from getdaft) (4.67.1)\n"
     ]
    }
   ],
   "source": [
    "! pip install getdaft"
   ]
  },
  {
   "cell_type": "code",
   "execution_count": 5,
   "id": "44d08022-58a3-42f1-a3f0-0992bae72b2d",
   "metadata": {},
   "outputs": [
    {
     "data": {
      "text/html": [
       "<div>\n",
       "<table class=\"dataframe\">\n",
       "<thead><tr><th style=\"text-wrap: nowrap; max-width:192px; overflow:auto; text-align:left\">a<br />Int64</th><th style=\"text-wrap: nowrap; max-width:192px; overflow:auto; text-align:left\">b<br />Boolean</th></tr></thead>\n",
       "<tbody>\n",
       "<tr><td><div style=\"text-align:left; max-width:192px; max-height:64px; overflow:auto\">1</div></td><td><div style=\"text-align:left; max-width:192px; max-height:64px; overflow:auto\">true</div></td></tr>\n",
       "</tbody>\n",
       "</table>\n",
       "<small>(Showing first 1 of 1 rows)</small>\n",
       "</div>"
      ],
      "text/plain": [
       "╭───────┬─────────╮\n",
       "│ a     ┆ b       │\n",
       "│ ---   ┆ ---     │\n",
       "│ Int64 ┆ Boolean │\n",
       "╞═══════╪═════════╡\n",
       "│ 1     ┆ true    │\n",
       "╰───────┴─────────╯\n",
       "\n",
       "(Showing first 1 of 1 rows)"
      ]
     },
     "metadata": {},
     "output_type": "display_data"
    }
   ],
   "source": [
    "import daft\n",
    "import ray\n",
    "# Configurazione minima\n",
    "\n",
    "ray.init(address='ray://ray-head:10001', runtime_env={\"pip\": [\"getdaft\"]})\n",
    "\n",
    "daft.context.set_runner_ray(\"ray://ray-head:10001\")\n",
    "\n",
    "# Test con un dataset più piccolo\n",
    "df = daft.from_pydict({\n",
    "    \"a\": [1, 2],\n",
    "    \"b\": [True, False]\n",
    "})\n",
    "\n",
    "# Test semplice senza operazioni complesse\n",
    "print(\"Dataset creato, provo a mostrarlo...\")\n",
    "df.show()\n",
    "\n",
    "# Se funziona, proviamo le operazioni complete\n",
    "if df is not None:\n",
    "    print(\"\\nProvo le operazioni where e sort...\")\n",
    "    df = df.where(df[\"b\"]).sort(df[\"a\"])\n",
    "    df.collect()\n",
    "    df.show()\n",
    "\n"
   ]
  },
  {
   "cell_type": "code",
   "execution_count": null,
   "id": "9a605d3b-80ae-4619-90ff-0154bc79c7f8",
   "metadata": {},
   "outputs": [],
   "source": []
  },
  {
   "cell_type": "code",
   "execution_count": 6,
   "id": "0883d22b-d81a-44e9-bafd-6d0107867c60",
   "metadata": {},
   "outputs": [
    {
     "name": "stderr",
     "output_type": "stream",
     "text": [
      "2025-01-09 14:39:04,643\tINFO client_builder.py:244 -- Passing the following kwargs to ray.init() on the server: ignore_reinit_error, log_to_driver\n",
      "2025-01-09 14:39:04,644\tINFO client_connect.py:37 -- Calling ray.init() again after it has already been called. Reusing the existing Ray client connection.\n"
     ]
    },
    {
     "name": "stdout",
     "output_type": "stream",
     "text": [
      "Test DNS...\n",
      "ray-head risolve a: 172.63.0.3\n",
      "Porta 10001: chiusa\n",
      "Porta 6379: chiusa\n",
      "Porta 8265: chiusa\n",
      "Porta 3001: aperta\n",
      "Porta 3000: chiusa\n",
      "Connessione Ray riuscita!\n"
     ]
    }
   ],
   "source": [
    "import os\n",
    "import socket\n",
    "import ray\n",
    "\n",
    "# Test connettività di base\n",
    "print(\"Test DNS...\")\n",
    "try:\n",
    "    ip = socket.gethostbyname('grafana')\n",
    "    print(f\"ray-head risolve a: {ip}\")\n",
    "except Exception as e:\n",
    "    print(f\"Errore DNS: {e}\")\n",
    "\n",
    "# Test porte\n",
    "ports = [10001, 6379, 8265, 3001, 3000]  # HEADNODEPORT, REDISPORT, DASHBOARDPORT tipici\n",
    "for port in ports:\n",
    "    sock = socket.socket(socket.AF_INET, socket.SOCK_STREAM)\n",
    "    result = sock.connect_ex((ip, port))\n",
    "    print(f\"Porta {port}: {'aperta' if result == 0 else 'chiusa'}\")\n",
    "    sock.close()\n",
    "\n",
    "# Prova connessione Ray\n",
    "try:\n",
    "    ray.init(\n",
    "        address=f\"ray://{ip}:10001\",  # Usando IP invece del nome host\n",
    "        ignore_reinit_error=True\n",
    "    )\n",
    "    print(\"Connessione Ray riuscita!\")\n",
    "except Exception as e:\n",
    "    print(f\"Errore Ray: {e}\")"
   ]
  },
  {
   "cell_type": "code",
   "execution_count": null,
   "id": "13577678-af9d-4c4a-80d7-cdf4f6c54bef",
   "metadata": {},
   "outputs": [],
   "source": []
  }
 ],
 "metadata": {
  "kernelspec": {
   "display_name": "Python 3 (ipykernel)",
   "language": "python",
   "name": "python3"
  },
  "language_info": {
   "codemirror_mode": {
    "name": "ipython",
    "version": 3
   },
   "file_extension": ".py",
   "mimetype": "text/x-python",
   "name": "python",
   "nbconvert_exporter": "python",
   "pygments_lexer": "ipython3",
   "version": "3.12.8"
  }
 },
 "nbformat": 4,
 "nbformat_minor": 5
}
