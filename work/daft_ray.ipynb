{
 "cells": [
  {
   "cell_type": "code",
   "execution_count": null,
   "id": "21ac5206-20e4-4a61-8d58-635c24811ae2",
   "metadata": {},
   "outputs": [],
   "source": [
    "# http://127.0.0.1:8265/#/cluster"
   ]
  },
  {
   "cell_type": "raw",
   "id": "5d2aff11-b309-46a6-890d-69d4c0ce953b",
   "metadata": {},
   "source": [
    "from collections import Counter\n",
    "import socket\n",
    "import time\n",
    "\n",
    "import ray\n",
    "\n",
    "ray.init(address='ray://ray-head:10001', runtime_env={\"pip\": [\"getdaft\"]})\n",
    "\n",
    "print('''This cluster consists of\n",
    "    {} nodes in total\n",
    "    {} CPU resources in total\n",
    "'''.format(len(ray.nodes()), ray.cluster_resources()['CPU']))\n",
    "\n",
    "@ray.remote\n",
    "def f():\n",
    "    time.sleep(0.001)\n",
    "    # Return IP address.\n",
    "    return socket.gethostbyname(socket.gethostname())\n",
    "\n",
    "object_ids = [f.remote() for _ in range(10000)]\n",
    "ip_addresses = ray.get(object_ids)\n",
    "\n",
    "print('Tasks executed')\n",
    "for ip_address, num_tasks in Counter(ip_addresses).items():\n",
    "    print('    {} tasks on {}'.format(num_tasks, ip_address))"
   ]
  },
  {
   "cell_type": "code",
   "execution_count": null,
   "id": "71330a37-fcb1-4010-8c69-5012febda215",
   "metadata": {},
   "outputs": [],
   "source": [
    "! pip install getdaft"
   ]
  },
  {
   "cell_type": "code",
   "execution_count": null,
   "id": "a236ddb2-2131-4817-a215-7e809d60f2f7",
   "metadata": {},
   "outputs": [],
   "source": [
    "import daft"
   ]
  },
  {
   "cell_type": "code",
   "execution_count": 2,
   "id": "44d08022-58a3-42f1-a3f0-0992bae72b2d",
   "metadata": {},
   "outputs": [
    {
     "ename": "TypeError",
     "evalue": "set_runner_ray() got an unexpected keyword argument 'runtime_env'",
     "output_type": "error",
     "traceback": [
      "\u001b[0;31m---------------------------------------------------------------------------\u001b[0m",
      "\u001b[0;31mTypeError\u001b[0m                                 Traceback (most recent call last)",
      "Cell \u001b[0;32mIn[2], line 4\u001b[0m\n\u001b[1;32m      1\u001b[0m \u001b[38;5;28;01mimport\u001b[39;00m \u001b[38;5;21;01mdaft\u001b[39;00m\n\u001b[1;32m      3\u001b[0m \u001b[38;5;66;03m# Configurazione minima\u001b[39;00m\n\u001b[0;32m----> 4\u001b[0m \u001b[43mdaft\u001b[49m\u001b[38;5;241;43m.\u001b[39;49m\u001b[43mcontext\u001b[49m\u001b[38;5;241;43m.\u001b[39;49m\u001b[43mset_runner_ray\u001b[49m\u001b[43m(\u001b[49m\u001b[38;5;124;43m\"\u001b[39;49m\u001b[38;5;124;43mray://172.63.0.5:10001\u001b[39;49m\u001b[38;5;124;43m\"\u001b[39;49m\u001b[43m,\u001b[49m\u001b[43m \u001b[49m\u001b[43mruntime_env\u001b[49m\u001b[38;5;241;43m=\u001b[39;49m\u001b[43m{\u001b[49m\u001b[38;5;124;43m\"\u001b[39;49m\u001b[38;5;124;43mpip\u001b[39;49m\u001b[38;5;124;43m\"\u001b[39;49m\u001b[43m:\u001b[49m\u001b[43m \u001b[49m\u001b[43m[\u001b[49m\u001b[38;5;124;43m\"\u001b[39;49m\u001b[38;5;124;43mgetdaft\u001b[39;49m\u001b[38;5;124;43m\"\u001b[39;49m\u001b[43m]\u001b[49m\u001b[43m}\u001b[49m\u001b[43m)\u001b[49m\n\u001b[1;32m      6\u001b[0m \u001b[38;5;66;03m# Test con un dataset più piccolo\u001b[39;00m\n\u001b[1;32m      7\u001b[0m df \u001b[38;5;241m=\u001b[39m daft\u001b[38;5;241m.\u001b[39mfrom_pydict({\n\u001b[1;32m      8\u001b[0m     \u001b[38;5;124m\"\u001b[39m\u001b[38;5;124ma\u001b[39m\u001b[38;5;124m\"\u001b[39m: [\u001b[38;5;241m1\u001b[39m, \u001b[38;5;241m2\u001b[39m],\n\u001b[1;32m      9\u001b[0m     \u001b[38;5;124m\"\u001b[39m\u001b[38;5;124mb\u001b[39m\u001b[38;5;124m\"\u001b[39m: [\u001b[38;5;28;01mTrue\u001b[39;00m, \u001b[38;5;28;01mFalse\u001b[39;00m]\n\u001b[1;32m     10\u001b[0m })\n",
      "\u001b[0;31mTypeError\u001b[0m: set_runner_ray() got an unexpected keyword argument 'runtime_env'"
     ]
    }
   ],
   "source": [
    "import daft\n",
    "\n",
    "# Configurazione minima\n",
    "daft.context.set_runner_ray(\"ray://172.63.0.5:10001\", runtime_env={\"pip\": [\"getdaft\"]})\n",
    "\n",
    "# Test con un dataset più piccolo\n",
    "df = daft.from_pydict({\n",
    "    \"a\": [1, 2],\n",
    "    \"b\": [True, False]\n",
    "})\n",
    "\n",
    "# Test semplice senza operazioni complesse\n",
    "print(\"Dataset creato, provo a mostrarlo...\")\n",
    "df.show()\n",
    "\n",
    "# Se funziona, proviamo le operazioni complete\n",
    "if df is not None:\n",
    "    print(\"\\nProvo le operazioni where e sort...\")\n",
    "    df = df.where(df[\"b\"]).sort(df[\"a\"])\n",
    "    df.collect()\n",
    "    df.show()\n",
    "\n"
   ]
  },
  {
   "cell_type": "code",
   "execution_count": null,
   "id": "9a605d3b-80ae-4619-90ff-0154bc79c7f8",
   "metadata": {},
   "outputs": [],
   "source": []
  },
  {
   "cell_type": "code",
   "execution_count": 5,
   "id": "0883d22b-d81a-44e9-bafd-6d0107867c60",
   "metadata": {},
   "outputs": [
    {
     "name": "stderr",
     "output_type": "stream",
     "text": [
      "2024-12-23 16:07:21,932\tINFO client_builder.py:244 -- Passing the following kwargs to ray.init() on the server: ignore_reinit_error, log_to_driver\n",
      "2024-12-23 16:07:21,933\tINFO client_connect.py:37 -- Calling ray.init() again after it has already been called. Reusing the existing Ray client connection.\n"
     ]
    },
    {
     "name": "stdout",
     "output_type": "stream",
     "text": [
      "Test DNS...\n",
      "ray-head risolve a: 172.63.0.2\n",
      "Porta 10001: chiusa\n",
      "Porta 6379: chiusa\n",
      "Porta 8265: chiusa\n",
      "Porta 3001: chiusa\n",
      "Porta 3000: aperta\n",
      "Connessione Ray riuscita!\n"
     ]
    }
   ],
   "source": [
    "import os\n",
    "import socket\n",
    "import ray\n",
    "\n",
    "# Test connettività di base\n",
    "print(\"Test DNS...\")\n",
    "try:\n",
    "    ip = socket.gethostbyname('grafana')\n",
    "    print(f\"ray-head risolve a: {ip}\")\n",
    "except Exception as e:\n",
    "    print(f\"Errore DNS: {e}\")\n",
    "\n",
    "# Test porte\n",
    "ports = [10001, 6379, 8265, 3001, 3000]  # HEADNODEPORT, REDISPORT, DASHBOARDPORT tipici\n",
    "for port in ports:\n",
    "    sock = socket.socket(socket.AF_INET, socket.SOCK_STREAM)\n",
    "    result = sock.connect_ex((ip, port))\n",
    "    print(f\"Porta {port}: {'aperta' if result == 0 else 'chiusa'}\")\n",
    "    sock.close()\n",
    "\n",
    "# Prova connessione Ray\n",
    "try:\n",
    "    ray.init(\n",
    "        address=f\"ray://{ip}:10001\",  # Usando IP invece del nome host\n",
    "        ignore_reinit_error=True\n",
    "    )\n",
    "    print(\"Connessione Ray riuscita!\")\n",
    "except Exception as e:\n",
    "    print(f\"Errore Ray: {e}\")"
   ]
  },
  {
   "cell_type": "code",
   "execution_count": null,
   "id": "13577678-af9d-4c4a-80d7-cdf4f6c54bef",
   "metadata": {},
   "outputs": [],
   "source": []
  }
 ],
 "metadata": {
  "kernelspec": {
   "display_name": "Python 3 (ipykernel)",
   "language": "python",
   "name": "python3"
  },
  "language_info": {
   "codemirror_mode": {
    "name": "ipython",
    "version": 3
   },
   "file_extension": ".py",
   "mimetype": "text/x-python",
   "name": "python",
   "nbconvert_exporter": "python",
   "pygments_lexer": "ipython3",
   "version": "3.12.8"
  }
 },
 "nbformat": 4,
 "nbformat_minor": 5
}
