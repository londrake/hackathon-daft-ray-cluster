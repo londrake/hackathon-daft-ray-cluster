{
 "cells": [
  {
   "cell_type": "code",
   "execution_count": 1,
   "id": "dcf3ff7d-2b7d-48b0-bb85-2f0e6bd7419a",
   "metadata": {},
   "outputs": [],
   "source": [
    "import daft\n",
    "from daft import DataType, udf"
   ]
  },
  {
   "cell_type": "code",
   "execution_count": 2,
   "id": "bbbd2d6b-5dfa-43cb-9cbb-5eed0916335a",
   "metadata": {},
   "outputs": [
    {
     "data": {
      "text/html": [
       "<div>\n",
       "<table class=\"dataframe\">\n",
       "<thead><tr><th style=\"text-wrap: nowrap; max-width:192px; overflow:auto; text-align:left\">integers<br />Int64</th><th style=\"text-wrap: nowrap; max-width:192px; overflow:auto; text-align:left\">floats<br />Float64</th><th style=\"text-wrap: nowrap; max-width:192px; overflow:auto; text-align:left\">bools<br />Boolean</th><th style=\"text-wrap: nowrap; max-width:192px; overflow:auto; text-align:left\">strings<br />Utf8</th><th style=\"text-wrap: nowrap; max-width:192px; overflow:auto; text-align:left\">bytes<br />Binary</th><th style=\"text-wrap: nowrap; max-width:192px; overflow:auto; text-align:left\">dates<br />Date</th><th style=\"text-wrap: nowrap; max-width:192px; overflow:auto; text-align:left\">lists<br />List[Int64]</th><th style=\"text-wrap: nowrap; max-width:192px; overflow:auto; text-align:left\">nulls<br />Null</th></tr></thead>\n",
       "<tbody>\n",
       "<tr><td><div style=\"text-align:left; max-width:192px; max-height:64px; overflow:auto\">1</div></td><td><div style=\"text-align:left; max-width:192px; max-height:64px; overflow:auto\">1.5</div></td><td><div style=\"text-align:left; max-width:192px; max-height:64px; overflow:auto\">true</div></td><td><div style=\"text-align:left; max-width:192px; max-height:64px; overflow:auto\">a</div></td><td><div style=\"text-align:left; max-width:192px; max-height:64px; overflow:auto\">b\"a\"</div></td><td><div style=\"text-align:left; max-width:192px; max-height:64px; overflow:auto\">1994-01-01</div></td><td><div style=\"text-align:left; max-width:192px; max-height:64px; overflow:auto\">[1, 1, 1]</div></td><td><div style=\"text-align:left; max-width:192px; max-height:64px; overflow:auto\">None</div></td></tr>\n",
       "<tr><td><div style=\"text-align:left; max-width:192px; max-height:64px; overflow:auto\">2</div></td><td><div style=\"text-align:left; max-width:192px; max-height:64px; overflow:auto\">2.5</div></td><td><div style=\"text-align:left; max-width:192px; max-height:64px; overflow:auto\">true</div></td><td><div style=\"text-align:left; max-width:192px; max-height:64px; overflow:auto\">b</div></td><td><div style=\"text-align:left; max-width:192px; max-height:64px; overflow:auto\">b\"b\"</div></td><td><div style=\"text-align:left; max-width:192px; max-height:64px; overflow:auto\">1994-01-02</div></td><td><div style=\"text-align:left; max-width:192px; max-height:64px; overflow:auto\">[2, 2, 2]</div></td><td><div style=\"text-align:left; max-width:192px; max-height:64px; overflow:auto\">None</div></td></tr>\n",
       "<tr><td><div style=\"text-align:left; max-width:192px; max-height:64px; overflow:auto\">3</div></td><td><div style=\"text-align:left; max-width:192px; max-height:64px; overflow:auto\">3.5</div></td><td><div style=\"text-align:left; max-width:192px; max-height:64px; overflow:auto\">false</div></td><td><div style=\"text-align:left; max-width:192px; max-height:64px; overflow:auto\">c</div></td><td><div style=\"text-align:left; max-width:192px; max-height:64px; overflow:auto\">b\"c\"</div></td><td><div style=\"text-align:left; max-width:192px; max-height:64px; overflow:auto\">1994-01-03</div></td><td><div style=\"text-align:left; max-width:192px; max-height:64px; overflow:auto\">[3, 3, 3]</div></td><td><div style=\"text-align:left; max-width:192px; max-height:64px; overflow:auto\">None</div></td></tr>\n",
       "<tr><td><div style=\"text-align:left; max-width:192px; max-height:64px; overflow:auto\">4</div></td><td><div style=\"text-align:left; max-width:192px; max-height:64px; overflow:auto\">4.5</div></td><td><div style=\"text-align:left; max-width:192px; max-height:64px; overflow:auto\">false</div></td><td><div style=\"text-align:left; max-width:192px; max-height:64px; overflow:auto\">d</div></td><td><div style=\"text-align:left; max-width:192px; max-height:64px; overflow:auto\">b\"d\"</div></td><td><div style=\"text-align:left; max-width:192px; max-height:64px; overflow:auto\">1994-01-04</div></td><td><div style=\"text-align:left; max-width:192px; max-height:64px; overflow:auto\">[4, 4, 4]</div></td><td><div style=\"text-align:left; max-width:192px; max-height:64px; overflow:auto\">None</div></td></tr>\n",
       "</tbody>\n",
       "</table>\n",
       "<small>(Showing first 4 of 4 rows)</small>\n",
       "</div>"
      ],
      "text/plain": [
       "╭──────────┬─────────┬─────────┬────────────┬────────────┬─────────────┬───────╮\n",
       "│ integers ┆ floats  ┆ bools   ┆      …     ┆ dates      ┆ lists       ┆ nulls │\n",
       "│ ---      ┆ ---     ┆ ---     ┆            ┆ ---        ┆ ---         ┆ ---   │\n",
       "│ Int64    ┆ Float64 ┆ Boolean ┆ (2 hidden) ┆ Date       ┆ List[Int64] ┆ Null  │\n",
       "╞══════════╪═════════╪═════════╪════════════╪════════════╪═════════════╪═══════╡\n",
       "│ 1        ┆ 1.5     ┆ true    ┆ …          ┆ 1994-01-01 ┆ [1, 1, 1]   ┆ None  │\n",
       "├╌╌╌╌╌╌╌╌╌╌┼╌╌╌╌╌╌╌╌╌┼╌╌╌╌╌╌╌╌╌┼╌╌╌╌╌╌╌╌╌╌╌╌┼╌╌╌╌╌╌╌╌╌╌╌╌┼╌╌╌╌╌╌╌╌╌╌╌╌╌┼╌╌╌╌╌╌╌┤\n",
       "│ 2        ┆ 2.5     ┆ true    ┆ …          ┆ 1994-01-02 ┆ [2, 2, 2]   ┆ None  │\n",
       "├╌╌╌╌╌╌╌╌╌╌┼╌╌╌╌╌╌╌╌╌┼╌╌╌╌╌╌╌╌╌┼╌╌╌╌╌╌╌╌╌╌╌╌┼╌╌╌╌╌╌╌╌╌╌╌╌┼╌╌╌╌╌╌╌╌╌╌╌╌╌┼╌╌╌╌╌╌╌┤\n",
       "│ 3        ┆ 3.5     ┆ false   ┆ …          ┆ 1994-01-03 ┆ [3, 3, 3]   ┆ None  │\n",
       "├╌╌╌╌╌╌╌╌╌╌┼╌╌╌╌╌╌╌╌╌┼╌╌╌╌╌╌╌╌╌┼╌╌╌╌╌╌╌╌╌╌╌╌┼╌╌╌╌╌╌╌╌╌╌╌╌┼╌╌╌╌╌╌╌╌╌╌╌╌╌┼╌╌╌╌╌╌╌┤\n",
       "│ 4        ┆ 4.5     ┆ false   ┆ …          ┆ 1994-01-04 ┆ [4, 4, 4]   ┆ None  │\n",
       "╰──────────┴─────────┴─────────┴────────────┴────────────┴─────────────┴───────╯\n",
       "\n",
       "(Showing first 4 of 4 rows)"
      ]
     },
     "execution_count": 2,
     "metadata": {},
     "output_type": "execute_result"
    }
   ],
   "source": [
    "import datetime\n",
    "\n",
    "df = daft.from_pydict(\n",
    "    {\n",
    "        \"integers\": [1, 2, 3, 4],\n",
    "        \"floats\": [1.5, 2.5, 3.5, 4.5],\n",
    "        \"bools\": [True, True, False, False],\n",
    "        \"strings\": [\"a\", \"b\", \"c\", \"d\"],\n",
    "        \"bytes\": [b\"a\", b\"b\", b\"c\", b\"d\"],\n",
    "        \"dates\": [\n",
    "            datetime.date(1994, 1, 1),\n",
    "            datetime.date(1994, 1, 2),\n",
    "            datetime.date(1994, 1, 3),\n",
    "            datetime.date(1994, 1, 4),\n",
    "        ],\n",
    "        \"lists\": [[1, 1, 1], [2, 2, 2], [3, 3, 3], [4, 4, 4]],\n",
    "        \"nulls\": [None, None, None, None],\n",
    "    }\n",
    ")\n",
    "\n",
    "df"
   ]
  },
  {
   "cell_type": "code",
   "execution_count": 3,
   "id": "05aba3a5-5f0f-47fc-91ad-a9aa32cd0bda",
   "metadata": {},
   "outputs": [
    {
     "data": {
      "text/html": [
       "<div>\n",
       "<table class=\"dataframe\">\n",
       "<thead><tr><th style=\"text-wrap: nowrap; max-width:192px; overflow:auto; text-align:left\">first_name<br />Utf8</th><th style=\"text-wrap: nowrap; max-width:192px; overflow:auto; text-align:left\">last_name<br />Utf8</th><th style=\"text-wrap: nowrap; max-width:192px; overflow:auto; text-align:left\">age<br />Int64</th><th style=\"text-wrap: nowrap; max-width:192px; overflow:auto; text-align:left\">DoB<br />Date</th><th style=\"text-wrap: nowrap; max-width:192px; overflow:auto; text-align:left\">country<br />Utf8</th><th style=\"text-wrap: nowrap; max-width:192px; overflow:auto; text-align:left\">has_dog<br />Boolean</th></tr></thead>\n",
       "</table>\n",
       "<small>(No data to display: Dataframe not materialized)</small>\n",
       "</div>"
      ],
      "text/plain": [
       "╭────────────┬───────────┬───────┬──────┬─────────┬─────────╮\n",
       "│ first_name ┆ last_name ┆ age   ┆ DoB  ┆ country ┆ has_dog │\n",
       "│ ---        ┆ ---       ┆ ---   ┆ ---  ┆ ---     ┆ ---     │\n",
       "│ Utf8       ┆ Utf8      ┆ Int64 ┆ Date ┆ Utf8    ┆ Boolean │\n",
       "╰────────────┴───────────┴───────┴──────┴─────────┴─────────╯\n",
       "\n",
       "(No data to display: Dataframe not materialized)"
      ]
     },
     "execution_count": 3,
     "metadata": {},
     "output_type": "execute_result"
    }
   ],
   "source": [
    "# Set IO Configurations to use anonymous data access mode\n",
    "daft.set_planning_config(default_io_config=daft.io.IOConfig(s3=daft.io.S3Config(anonymous=True)))\n",
    "\n",
    "df = daft.read_parquet(\"s3://daft-public-data/tutorials/10-min/sample-data-dog-owners-partitioned.pq/**\")\n",
    "df"
   ]
  },
  {
   "cell_type": "code",
   "execution_count": 4,
   "id": "b02b649d-46b4-47e3-a0ee-cddeaeb6b290",
   "metadata": {},
   "outputs": [
    {
     "name": "stderr",
     "output_type": "stream",
     "text": [
      "/opt/conda/lib/python3.12/site-packages/daft/runners/pyrunner.py:344: UserWarning: PyRunner will be deprecated in v0.4.0 and the new NativeRunner will become the default for local execution.We recommend switching to the NativeRunner now via `daft.context.set_runner_native()` or by setting the env variable `DAFT_RUNNER=native`. Please report any issues at github.com/Eventual-Inc/Daft/issues\n",
      "  warnings.warn(\n"
     ]
    },
    {
     "data": {
      "application/vnd.jupyter.widget-view+json": {
       "model_id": "13084f001d684acebb504480fa1656a3",
       "version_major": 2,
       "version_minor": 0
      },
      "text/plain": [
       "ScanWithTask [Stage:1]:   0%|          | 0/1 [00:00<?, ?it/s]"
      ]
     },
     "metadata": {},
     "output_type": "display_data"
    },
    {
     "data": {
      "text/html": [
       "<div>\n",
       "<table class=\"dataframe\">\n",
       "<thead><tr><th style=\"text-wrap: nowrap; max-width:192px; overflow:auto; text-align:left\">first_name<br />Utf8</th><th style=\"text-wrap: nowrap; max-width:192px; overflow:auto; text-align:left\">last_name<br />Utf8</th><th style=\"text-wrap: nowrap; max-width:192px; overflow:auto; text-align:left\">age<br />Int64</th><th style=\"text-wrap: nowrap; max-width:192px; overflow:auto; text-align:left\">DoB<br />Date</th><th style=\"text-wrap: nowrap; max-width:192px; overflow:auto; text-align:left\">country<br />Utf8</th><th style=\"text-wrap: nowrap; max-width:192px; overflow:auto; text-align:left\">has_dog<br />Boolean</th></tr></thead>\n",
       "<tbody>\n",
       "<tr><td><div style=\"text-align:left; max-width:192px; max-height:64px; overflow:auto\">Shandra</div></td><td><div style=\"text-align:left; max-width:192px; max-height:64px; overflow:auto\">Shamas</div></td><td><div style=\"text-align:left; max-width:192px; max-height:64px; overflow:auto\">57</div></td><td><div style=\"text-align:left; max-width:192px; max-height:64px; overflow:auto\">1967-01-02</div></td><td><div style=\"text-align:left; max-width:192px; max-height:64px; overflow:auto\">United Kingdom</div></td><td><div style=\"text-align:left; max-width:192px; max-height:64px; overflow:auto\">true</div></td></tr>\n",
       "<tr><td><div style=\"text-align:left; max-width:192px; max-height:64px; overflow:auto\">Zaya</div></td><td><div style=\"text-align:left; max-width:192px; max-height:64px; overflow:auto\">Zaphora</div></td><td><div style=\"text-align:left; max-width:192px; max-height:64px; overflow:auto\">40</div></td><td><div style=\"text-align:left; max-width:192px; max-height:64px; overflow:auto\">1984-04-07</div></td><td><div style=\"text-align:left; max-width:192px; max-height:64px; overflow:auto\">United Kingdom</div></td><td><div style=\"text-align:left; max-width:192px; max-height:64px; overflow:auto\">true</div></td></tr>\n",
       "<tr><td><div style=\"text-align:left; max-width:192px; max-height:64px; overflow:auto\">Wolfgang</div></td><td><div style=\"text-align:left; max-width:192px; max-height:64px; overflow:auto\">Winter</div></td><td><div style=\"text-align:left; max-width:192px; max-height:64px; overflow:auto\">23</div></td><td><div style=\"text-align:left; max-width:192px; max-height:64px; overflow:auto\">2001-02-12</div></td><td><div style=\"text-align:left; max-width:192px; max-height:64px; overflow:auto\">Germany</div></td><td><div style=\"text-align:left; max-width:192px; max-height:64px; overflow:auto\">None</div></td></tr>\n",
       "<tr><td><div style=\"text-align:left; max-width:192px; max-height:64px; overflow:auto\">Ernesto</div></td><td><div style=\"text-align:left; max-width:192px; max-height:64px; overflow:auto\">Evergreen</div></td><td><div style=\"text-align:left; max-width:192px; max-height:64px; overflow:auto\">34</div></td><td><div style=\"text-align:left; max-width:192px; max-height:64px; overflow:auto\">1990-04-03</div></td><td><div style=\"text-align:left; max-width:192px; max-height:64px; overflow:auto\">Canada</div></td><td><div style=\"text-align:left; max-width:192px; max-height:64px; overflow:auto\">true</div></td></tr>\n",
       "<tr><td><div style=\"text-align:left; max-width:192px; max-height:64px; overflow:auto\">James</div></td><td><div style=\"text-align:left; max-width:192px; max-height:64px; overflow:auto\">Jale</div></td><td><div style=\"text-align:left; max-width:192px; max-height:64px; overflow:auto\">62</div></td><td><div style=\"text-align:left; max-width:192px; max-height:64px; overflow:auto\">1962-03-24</div></td><td><div style=\"text-align:left; max-width:192px; max-height:64px; overflow:auto\">Canada</div></td><td><div style=\"text-align:left; max-width:192px; max-height:64px; overflow:auto\">true</div></td></tr>\n",
       "</tbody>\n",
       "</table>\n",
       "<small>(Showing first 5 of 5 rows)</small>\n",
       "</div>"
      ],
      "text/plain": [
       "╭────────────┬───────────┬───────┬────────────┬────────────────┬─────────╮\n",
       "│ first_name ┆ last_name ┆ age   ┆ DoB        ┆ country        ┆ has_dog │\n",
       "│ ---        ┆ ---       ┆ ---   ┆ ---        ┆ ---            ┆ ---     │\n",
       "│ Utf8       ┆ Utf8      ┆ Int64 ┆ Date       ┆ Utf8           ┆ Boolean │\n",
       "╞════════════╪═══════════╪═══════╪════════════╪════════════════╪═════════╡\n",
       "│ Shandra    ┆ Shamas    ┆ 57    ┆ 1967-01-02 ┆ United Kingdom ┆ true    │\n",
       "├╌╌╌╌╌╌╌╌╌╌╌╌┼╌╌╌╌╌╌╌╌╌╌╌┼╌╌╌╌╌╌╌┼╌╌╌╌╌╌╌╌╌╌╌╌┼╌╌╌╌╌╌╌╌╌╌╌╌╌╌╌╌┼╌╌╌╌╌╌╌╌╌┤\n",
       "│ Zaya       ┆ Zaphora   ┆ 40    ┆ 1984-04-07 ┆ United Kingdom ┆ true    │\n",
       "├╌╌╌╌╌╌╌╌╌╌╌╌┼╌╌╌╌╌╌╌╌╌╌╌┼╌╌╌╌╌╌╌┼╌╌╌╌╌╌╌╌╌╌╌╌┼╌╌╌╌╌╌╌╌╌╌╌╌╌╌╌╌┼╌╌╌╌╌╌╌╌╌┤\n",
       "│ Wolfgang   ┆ Winter    ┆ 23    ┆ 2001-02-12 ┆ Germany        ┆ None    │\n",
       "├╌╌╌╌╌╌╌╌╌╌╌╌┼╌╌╌╌╌╌╌╌╌╌╌┼╌╌╌╌╌╌╌┼╌╌╌╌╌╌╌╌╌╌╌╌┼╌╌╌╌╌╌╌╌╌╌╌╌╌╌╌╌┼╌╌╌╌╌╌╌╌╌┤\n",
       "│ Ernesto    ┆ Evergreen ┆ 34    ┆ 1990-04-03 ┆ Canada         ┆ true    │\n",
       "├╌╌╌╌╌╌╌╌╌╌╌╌┼╌╌╌╌╌╌╌╌╌╌╌┼╌╌╌╌╌╌╌┼╌╌╌╌╌╌╌╌╌╌╌╌┼╌╌╌╌╌╌╌╌╌╌╌╌╌╌╌╌┼╌╌╌╌╌╌╌╌╌┤\n",
       "│ James      ┆ Jale      ┆ 62    ┆ 1962-03-24 ┆ Canada         ┆ true    │\n",
       "╰────────────┴───────────┴───────┴────────────┴────────────────┴─────────╯\n",
       "\n",
       "(Showing first 5 of 5 rows)"
      ]
     },
     "execution_count": 4,
     "metadata": {},
     "output_type": "execute_result"
    }
   ],
   "source": [
    "df.collect()"
   ]
  },
  {
   "cell_type": "code",
   "execution_count": 5,
   "id": "77e7ec9c-d644-407d-b55b-451035f4b510",
   "metadata": {},
   "outputs": [
    {
     "data": {
      "text/html": [
       "<div>\n",
       "<table class=\"dataframe\">\n",
       "<thead><tr><th style=\"text-wrap: nowrap; max-width:192px; overflow:auto; text-align:left\">first_name<br />Utf8</th><th style=\"text-wrap: nowrap; max-width:192px; overflow:auto; text-align:left\">last_name<br />Utf8</th><th style=\"text-wrap: nowrap; max-width:192px; overflow:auto; text-align:left\">age<br />Int64</th><th style=\"text-wrap: nowrap; max-width:192px; overflow:auto; text-align:left\">DoB<br />Date</th><th style=\"text-wrap: nowrap; max-width:192px; overflow:auto; text-align:left\">country<br />Utf8</th><th style=\"text-wrap: nowrap; max-width:192px; overflow:auto; text-align:left\">has_dog<br />Boolean</th></tr></thead>\n",
       "<tbody>\n",
       "<tr><td><div style=\"text-align:left; max-width:192px; max-height:64px; overflow:auto\">Shandra</div></td><td><div style=\"text-align:left; max-width:192px; max-height:64px; overflow:auto\">Shamas</div></td><td><div style=\"text-align:left; max-width:192px; max-height:64px; overflow:auto\">57</div></td><td><div style=\"text-align:left; max-width:192px; max-height:64px; overflow:auto\">1967-01-02</div></td><td><div style=\"text-align:left; max-width:192px; max-height:64px; overflow:auto\">United Kingdom</div></td><td><div style=\"text-align:left; max-width:192px; max-height:64px; overflow:auto\">true</div></td></tr>\n",
       "<tr><td><div style=\"text-align:left; max-width:192px; max-height:64px; overflow:auto\">Zaya</div></td><td><div style=\"text-align:left; max-width:192px; max-height:64px; overflow:auto\">Zaphora</div></td><td><div style=\"text-align:left; max-width:192px; max-height:64px; overflow:auto\">40</div></td><td><div style=\"text-align:left; max-width:192px; max-height:64px; overflow:auto\">1984-04-07</div></td><td><div style=\"text-align:left; max-width:192px; max-height:64px; overflow:auto\">United Kingdom</div></td><td><div style=\"text-align:left; max-width:192px; max-height:64px; overflow:auto\">true</div></td></tr>\n",
       "<tr><td><div style=\"text-align:left; max-width:192px; max-height:64px; overflow:auto\">Wolfgang</div></td><td><div style=\"text-align:left; max-width:192px; max-height:64px; overflow:auto\">Winter</div></td><td><div style=\"text-align:left; max-width:192px; max-height:64px; overflow:auto\">23</div></td><td><div style=\"text-align:left; max-width:192px; max-height:64px; overflow:auto\">2001-02-12</div></td><td><div style=\"text-align:left; max-width:192px; max-height:64px; overflow:auto\">Germany</div></td><td><div style=\"text-align:left; max-width:192px; max-height:64px; overflow:auto\">None</div></td></tr>\n",
       "</tbody>\n",
       "</table>\n",
       "<small>(Showing first 3 of 5 rows)</small>\n",
       "</div>"
      ],
      "text/plain": [
       "╭────────────┬───────────┬───────┬────────────┬────────────────┬─────────╮\n",
       "│ first_name ┆ last_name ┆ age   ┆ DoB        ┆ country        ┆ has_dog │\n",
       "│ ---        ┆ ---       ┆ ---   ┆ ---        ┆ ---            ┆ ---     │\n",
       "│ Utf8       ┆ Utf8      ┆ Int64 ┆ Date       ┆ Utf8           ┆ Boolean │\n",
       "╞════════════╪═══════════╪═══════╪════════════╪════════════════╪═════════╡\n",
       "│ Shandra    ┆ Shamas    ┆ 57    ┆ 1967-01-02 ┆ United Kingdom ┆ true    │\n",
       "├╌╌╌╌╌╌╌╌╌╌╌╌┼╌╌╌╌╌╌╌╌╌╌╌┼╌╌╌╌╌╌╌┼╌╌╌╌╌╌╌╌╌╌╌╌┼╌╌╌╌╌╌╌╌╌╌╌╌╌╌╌╌┼╌╌╌╌╌╌╌╌╌┤\n",
       "│ Zaya       ┆ Zaphora   ┆ 40    ┆ 1984-04-07 ┆ United Kingdom ┆ true    │\n",
       "├╌╌╌╌╌╌╌╌╌╌╌╌┼╌╌╌╌╌╌╌╌╌╌╌┼╌╌╌╌╌╌╌┼╌╌╌╌╌╌╌╌╌╌╌╌┼╌╌╌╌╌╌╌╌╌╌╌╌╌╌╌╌┼╌╌╌╌╌╌╌╌╌┤\n",
       "│ Wolfgang   ┆ Winter    ┆ 23    ┆ 2001-02-12 ┆ Germany        ┆ None    │\n",
       "╰────────────┴───────────┴───────┴────────────┴────────────────┴─────────╯\n",
       "\n",
       "(Showing first 3 of 5 rows)"
      ]
     },
     "metadata": {},
     "output_type": "display_data"
    }
   ],
   "source": [
    "df.show(3)"
   ]
  },
  {
   "cell_type": "code",
   "execution_count": null,
   "id": "2d715a53-80bc-43a9-a7e7-c8f95e4923e7",
   "metadata": {},
   "outputs": [],
   "source": []
  }
 ],
 "metadata": {
  "kernelspec": {
   "display_name": "Python 3 (ipykernel)",
   "language": "python",
   "name": "python3"
  },
  "language_info": {
   "codemirror_mode": {
    "name": "ipython",
    "version": 3
   },
   "file_extension": ".py",
   "mimetype": "text/x-python",
   "name": "python",
   "nbconvert_exporter": "python",
   "pygments_lexer": "ipython3",
   "version": "3.12.8"
  }
 },
 "nbformat": 4,
 "nbformat_minor": 5
}
